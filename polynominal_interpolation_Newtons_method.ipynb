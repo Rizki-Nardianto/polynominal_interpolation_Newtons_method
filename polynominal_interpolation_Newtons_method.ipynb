{
 "cells": [
  {
   "cell_type": "code",
   "execution_count": 16,
   "metadata": {},
   "outputs": [],
   "source": [
    "import pandas as pd\n",
    "import matplotlib.pyplot as plt\n",
    "import numpy as np"
   ]
  },
  {
   "cell_type": "code",
   "execution_count": 8,
   "metadata": {},
   "outputs": [],
   "source": [
    "def newton_interpolation(x, y, xi):\n",
    "    # panjang/angka dari datapoint\n",
    "    n = len(x)\n",
    "    # inisialisasi metode divided difference \n",
    "    fdd = [[None for x in range(n)] for x in range(n)]\n",
    "    # nilai f(X) pada drajat berbeda \n",
    "    yint = [None for x in range(n)]\n",
    "    # nilai error\n",
    "    ea = [None for x in range(n)]\n",
    "    \n",
    "    # menemukan divided difference\n",
    "    for i in range(n):\n",
    "        fdd[i][0] = y[i]\n",
    "    for j in range(1,n):\n",
    "        for i in range(n-j):\n",
    "            fdd[i][j] = (fdd[i+1][j-1] - fdd[i][j-1])/(x[i+j]-x[i])\n",
    "    \n",
    "    #menampilkan dd \n",
    "    fdd_table = pd.DataFrame(fdd)\n",
    "    print(fdd_table)\n",
    "    \n",
    "    #interpolasi xi\n",
    "    xterm = 1\n",
    "    yint[0] = fdd[0][0]\n",
    "    for order in range(1, n):\n",
    "        xterm = xterm * (xi - x[order-1])\n",
    "        yint2 = yint[order-1] + fdd[0][order]*xterm\n",
    "        ea[order-1] = yint2 - yint[order-1]\n",
    "        yint[order] = yint2\n",
    "    \n",
    "    #returning map pada pandas dataframe\n",
    "    return map(lambda yy, ee : [yy, ee], yint, ea)"
   ]
  },
  {
   "cell_type": "code",
   "execution_count": 17,
   "metadata": {},
   "outputs": [],
   "source": [
    "x = [1.0, 2.0, 3.0, 4.0, 5.0, 6.0]\n",
    "y = [14.5, 19.5, 30.5, 53.5, 94.5, 159.5]"
   ]
  },
  {
   "cell_type": "code",
   "execution_count": 18,
   "metadata": {},
   "outputs": [
    {
     "name": "stdout",
     "output_type": "stream",
     "text": [
      "       0     1     2    3    4    5\n",
      "0   14.5   5.0   3.0  1.0  0.0  0.0\n",
      "1   19.5  11.0   6.0  1.0  0.0  NaN\n",
      "2   30.5  23.0   9.0  1.0  NaN  NaN\n",
      "3   53.5  41.0  12.0  NaN  NaN  NaN\n",
      "4   94.5  65.0   NaN  NaN  NaN  NaN\n",
      "5  159.5   NaN   NaN  NaN  NaN  NaN\n"
     ]
    }
   ],
   "source": [
    "a = newton_interpolation(x, y, 2)\n",
    "# df = pd.DataFrame(data=a, columns=['f(x)','error'])"
   ]
  },
  {
   "cell_type": "code",
   "execution_count": null,
   "metadata": {},
   "outputs": [],
   "source": []
  },
  {
   "cell_type": "code",
   "execution_count": null,
   "metadata": {},
   "outputs": [],
   "source": []
  },
  {
   "cell_type": "code",
   "execution_count": null,
   "metadata": {},
   "outputs": [],
   "source": []
  },
  {
   "cell_type": "code",
   "execution_count": null,
   "metadata": {},
   "outputs": [],
   "source": []
  },
  {
   "cell_type": "code",
   "execution_count": null,
   "metadata": {},
   "outputs": [],
   "source": []
  }
 ],
 "metadata": {
  "kernelspec": {
   "display_name": "Python 3",
   "language": "python",
   "name": "python3"
  },
  "language_info": {
   "codemirror_mode": {
    "name": "ipython",
    "version": 3
   },
   "file_extension": ".py",
   "mimetype": "text/x-python",
   "name": "python",
   "nbconvert_exporter": "python",
   "pygments_lexer": "ipython3",
   "version": "3.8.5"
  }
 },
 "nbformat": 4,
 "nbformat_minor": 4
}
